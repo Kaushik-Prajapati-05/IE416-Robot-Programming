{
  "cells": [
    {
      "cell_type": "markdown",
      "source": [
        "<h1> <b> Lab-01: Robot Programming - Learning NumPy </b> </h1>\n",
        "<h4><b> Group Syntax:</b> </h4>\n",
        "\n",
        "```\n",
        "Yash Tarpara      - 202201422\n",
        "Kaushik Prajapati - 202201472\n",
        "```\n",
        "\n"
      ],
      "metadata": {
        "id": "VvySIFcUaFLy"
      },
      "id": "VvySIFcUaFLy"
    },
    {
      "cell_type": "code",
      "execution_count": 1,
      "id": "a9e17c29-6fcc-4169-beb1-972b168f752e",
      "metadata": {
        "id": "a9e17c29-6fcc-4169-beb1-972b168f752e"
      },
      "outputs": [],
      "source": [
        "import numpy as np"
      ]
    },
    {
      "cell_type": "markdown",
      "id": "d30d8afa-8e9f-4d5f-a6d7-e289c8b3d973",
      "metadata": {
        "id": "d30d8afa-8e9f-4d5f-a6d7-e289c8b3d973"
      },
      "source": [
        "# Creating a 1D array"
      ]
    },
    {
      "cell_type": "code",
      "execution_count": 2,
      "id": "5deaf3dd-6393-49ab-bc5a-f18b9d78dc45",
      "metadata": {
        "id": "5deaf3dd-6393-49ab-bc5a-f18b9d78dc45",
        "colab": {
          "base_uri": "https://localhost:8080/"
        },
        "outputId": "6ab963cb-42b5-4435-8704-df6897502731"
      },
      "outputs": [
        {
          "output_type": "stream",
          "name": "stdout",
          "text": [
            "[1 2 3 4 5]\n"
          ]
        }
      ],
      "source": [
        "arr = np.array([1,2,3,4,5])\n",
        "print(arr)"
      ]
    },
    {
      "cell_type": "markdown",
      "id": "8937e16c-2a9a-45f6-a2b3-1b9977778e58",
      "metadata": {
        "id": "8937e16c-2a9a-45f6-a2b3-1b9977778e58"
      },
      "source": [
        "# Creating a 2D array"
      ]
    },
    {
      "cell_type": "code",
      "execution_count": 3,
      "id": "0b4d5f20-6af9-4cfe-95f8-ef6893501c95",
      "metadata": {
        "id": "0b4d5f20-6af9-4cfe-95f8-ef6893501c95",
        "colab": {
          "base_uri": "https://localhost:8080/"
        },
        "outputId": "dc635542-e680-43a5-cda2-eea4c294d2db"
      },
      "outputs": [
        {
          "output_type": "stream",
          "name": "stdout",
          "text": [
            "[[1 2 3]\n",
            " [4 5 6]]\n"
          ]
        }
      ],
      "source": [
        "arr_2d = np.array([[1, 2, 3],[ 4, 5, 6]])\n",
        "print(arr_2d)\n"
      ]
    },
    {
      "cell_type": "markdown",
      "id": "e5fabc25-5488-40d3-9ea7-3769d2e1bdf4",
      "metadata": {
        "id": "e5fabc25-5488-40d3-9ea7-3769d2e1bdf4"
      },
      "source": [
        "# Array attributes: shape, dimesnions, size and data type\n",
        "## arr.shape  Returns the shape of the array\n",
        "## arr.ndim   Returns the number of dimensions\n",
        "## arr.size   Returns the total number of elements\n",
        "## arr.dtype # Returns the data type of elements"
      ]
    },
    {
      "cell_type": "code",
      "execution_count": 4,
      "id": "bdfec37d-b417-4e8e-8fca-ecba7efa3252",
      "metadata": {
        "id": "bdfec37d-b417-4e8e-8fca-ecba7efa3252",
        "colab": {
          "base_uri": "https://localhost:8080/"
        },
        "outputId": "2d3b236f-e093-4ec6-fd9b-82d76709f5eb"
      },
      "outputs": [
        {
          "output_type": "stream",
          "name": "stdout",
          "text": [
            "(2, 3)\n"
          ]
        }
      ],
      "source": [
        "print(arr_2d.shape)"
      ]
    },
    {
      "cell_type": "code",
      "execution_count": 5,
      "id": "4918632a-a4f6-4840-a851-1c4e633aefa0",
      "metadata": {
        "id": "4918632a-a4f6-4840-a851-1c4e633aefa0",
        "colab": {
          "base_uri": "https://localhost:8080/"
        },
        "outputId": "c724df17-923a-4937-9bc3-66c0f65730e1"
      },
      "outputs": [
        {
          "output_type": "stream",
          "name": "stdout",
          "text": [
            "2\n"
          ]
        }
      ],
      "source": [
        "print(arr_2d.ndim)"
      ]
    },
    {
      "cell_type": "code",
      "execution_count": 6,
      "id": "ecc190cb-7ad2-4b89-b218-152be5968950",
      "metadata": {
        "id": "ecc190cb-7ad2-4b89-b218-152be5968950",
        "colab": {
          "base_uri": "https://localhost:8080/"
        },
        "outputId": "26e5e29a-e6cd-4a88-d436-292a1bfaef1b"
      },
      "outputs": [
        {
          "output_type": "execute_result",
          "data": {
            "text/plain": [
              "5"
            ]
          },
          "metadata": {},
          "execution_count": 6
        }
      ],
      "source": [
        "arr.size"
      ]
    },
    {
      "cell_type": "code",
      "execution_count": 7,
      "id": "e6346fa5-620f-49be-82eb-bcb19ec8262d",
      "metadata": {
        "id": "e6346fa5-620f-49be-82eb-bcb19ec8262d",
        "colab": {
          "base_uri": "https://localhost:8080/"
        },
        "outputId": "94dec368-a73d-4164-d53f-00bb0c4feeb5"
      },
      "outputs": [
        {
          "output_type": "execute_result",
          "data": {
            "text/plain": [
              "dtype('int64')"
            ]
          },
          "metadata": {},
          "execution_count": 7
        }
      ],
      "source": [
        "arr.dtype"
      ]
    },
    {
      "cell_type": "markdown",
      "id": "5ac438f0-8ff4-40aa-a221-58ed3b70dc80",
      "metadata": {
        "id": "5ac438f0-8ff4-40aa-a221-58ed3b70dc80"
      },
      "source": [
        "# Array indexing and slicing"
      ]
    },
    {
      "cell_type": "code",
      "execution_count": 8,
      "id": "39eba556-f9bb-4dff-b497-bd7e38024e7a",
      "metadata": {
        "id": "39eba556-f9bb-4dff-b497-bd7e38024e7a"
      },
      "outputs": [],
      "source": [
        "# print all elements second onwards"
      ]
    },
    {
      "cell_type": "code",
      "execution_count": 9,
      "id": "4f383e7a-b1d7-4c5d-8871-0755488d5e2f",
      "metadata": {
        "id": "4f383e7a-b1d7-4c5d-8871-0755488d5e2f",
        "colab": {
          "base_uri": "https://localhost:8080/"
        },
        "outputId": "4c725bb4-c1f6-4066-cd9f-9b45c6513b55"
      },
      "outputs": [
        {
          "output_type": "stream",
          "name": "stdout",
          "text": [
            "6\n",
            "[[2 3]\n",
            " [5 6]]\n"
          ]
        }
      ],
      "source": [
        "print(arr_2d[1,2])\n",
        "print(arr_2d[0:2, 1:3])"
      ]
    },
    {
      "cell_type": "code",
      "execution_count": 10,
      "id": "4fc48e14-98f8-475e-81b2-f90a81bab69a",
      "metadata": {
        "id": "4fc48e14-98f8-475e-81b2-f90a81bab69a"
      },
      "outputs": [],
      "source": [
        "# print elements in arr_2d: first three rows and second to fourth column"
      ]
    },
    {
      "cell_type": "markdown",
      "id": "382c1f9d-71c3-489d-b606-972a7a73a433",
      "metadata": {
        "id": "382c1f9d-71c3-489d-b606-972a7a73a433"
      },
      "source": [
        "# Universal functions"
      ]
    },
    {
      "cell_type": "code",
      "execution_count": 11,
      "id": "97bfa30d-9586-4311-ab03-56e58461d665",
      "metadata": {
        "id": "97bfa30d-9586-4311-ab03-56e58461d665",
        "colab": {
          "base_uri": "https://localhost:8080/"
        },
        "outputId": "c873b5c9-3110-4c4e-df7d-a09406a6abcc"
      },
      "outputs": [
        {
          "output_type": "execute_result",
          "data": {
            "text/plain": [
              "array([  2.71828183,   7.3890561 ,  20.08553692,  54.59815003,\n",
              "       148.4131591 ])"
            ]
          },
          "metadata": {},
          "execution_count": 11
        }
      ],
      "source": [
        "np.sqrt(arr)\n",
        "np.exp(arr)"
      ]
    },
    {
      "cell_type": "markdown",
      "id": "0a17a985-8b9a-443c-bdbe-3778c2db128b",
      "metadata": {
        "id": "0a17a985-8b9a-443c-bdbe-3778c2db128b"
      },
      "source": [
        "# aggregation functions"
      ]
    },
    {
      "cell_type": "code",
      "execution_count": 12,
      "id": "3caab761-3ffc-4e6b-bab8-3136620d9e0a",
      "metadata": {
        "id": "3caab761-3ffc-4e6b-bab8-3136620d9e0a"
      },
      "outputs": [],
      "source": [
        "mean = np.mean(arr)\n",
        "std = np.std(arr)\n",
        "arr_max = np.max(arr)\n"
      ]
    },
    {
      "cell_type": "code",
      "execution_count": 13,
      "id": "f76223b3-9281-4eb9-a2e1-31b2c4a0e372",
      "metadata": {
        "id": "f76223b3-9281-4eb9-a2e1-31b2c4a0e372",
        "colab": {
          "base_uri": "https://localhost:8080/"
        },
        "outputId": "87fd20d3-6e17-4a5a-8cf9-7a2556f9a61f"
      },
      "outputs": [
        {
          "output_type": "stream",
          "name": "stdout",
          "text": [
            "Array is [1 2 3 4 5] ; Mean is 3.0 std. deviation is 1.4142135623730951 Max value is 5\n"
          ]
        }
      ],
      "source": [
        "print(f\"Array is {arr}\", f\"; Mean is {mean}\", f\"std. deviation is {std}\", f\"Max value is {arr_max}\" )"
      ]
    },
    {
      "cell_type": "markdown",
      "id": "2047f9e2-7055-4070-95d4-16d723589f38",
      "metadata": {
        "id": "2047f9e2-7055-4070-95d4-16d723589f38"
      },
      "source": [
        "# Linear Algebra\n",
        "## DOt product\n"
      ]
    },
    {
      "cell_type": "code",
      "execution_count": 14,
      "id": "f0567a43-54b9-4fa1-9793-213a4fdeb8a6",
      "metadata": {
        "id": "f0567a43-54b9-4fa1-9793-213a4fdeb8a6",
        "colab": {
          "base_uri": "https://localhost:8080/"
        },
        "outputId": "ff36f44c-b5f6-4d20-f1b4-aa5378f4c2eb"
      },
      "outputs": [
        {
          "output_type": "execute_result",
          "data": {
            "text/plain": [
              "55"
            ]
          },
          "metadata": {},
          "execution_count": 14
        }
      ],
      "source": [
        "np.dot(arr, arr)"
      ]
    },
    {
      "cell_type": "markdown",
      "id": "5eb6f40b-63ec-4566-ae17-d2b447f291ea",
      "metadata": {
        "id": "5eb6f40b-63ec-4566-ae17-d2b447f291ea"
      },
      "source": [
        "## Matrix Multiplication"
      ]
    },
    {
      "cell_type": "code",
      "execution_count": 15,
      "id": "ac14bbba-8134-40aa-a666-74b218d2aa8e",
      "metadata": {
        "id": "ac14bbba-8134-40aa-a666-74b218d2aa8e",
        "colab": {
          "base_uri": "https://localhost:8080/"
        },
        "outputId": "96159449-4cf9-4e0f-e64d-5d72c0cafacb"
      },
      "outputs": [
        {
          "output_type": "execute_result",
          "data": {
            "text/plain": [
              "array([[19, 22],\n",
              "       [43, 50]])"
            ]
          },
          "metadata": {},
          "execution_count": 15
        }
      ],
      "source": [
        "matrix1 = np.array([ [1,2],[3,4]])\n",
        "matrix2 = np.array([ [5,6],[7,8]])\n",
        "np.matmul(matrix1, matrix2)"
      ]
    },
    {
      "cell_type": "markdown",
      "id": "0f519bde-b93d-4029-a33b-cc14496f0c6e",
      "metadata": {
        "id": "0f519bde-b93d-4029-a33b-cc14496f0c6e"
      },
      "source": [
        "## Eigenvalues and EIgendecomposition"
      ]
    },
    {
      "cell_type": "code",
      "execution_count": 16,
      "id": "0e3ae706-d6c8-4adf-a308-e7fae2ff6015",
      "metadata": {
        "id": "0e3ae706-d6c8-4adf-a308-e7fae2ff6015"
      },
      "outputs": [],
      "source": [
        "eigenvalues, eigenvectors = np.linalg.eig(matrix1)"
      ]
    },
    {
      "cell_type": "code",
      "execution_count": 17,
      "id": "4135dd55-fe38-440d-8839-17933a68d3f3",
      "metadata": {
        "id": "4135dd55-fe38-440d-8839-17933a68d3f3",
        "colab": {
          "base_uri": "https://localhost:8080/"
        },
        "outputId": "151c9c74-a65e-45bf-eebf-ebe9709bcdac"
      },
      "outputs": [
        {
          "output_type": "stream",
          "name": "stdout",
          "text": [
            "[-0.37228132  5.37228132] [[-0.82456484 -0.41597356]\n",
            " [ 0.56576746 -0.90937671]]\n"
          ]
        }
      ],
      "source": [
        "print(eigenvalues, eigenvectors)"
      ]
    },
    {
      "cell_type": "markdown",
      "id": "bb244c51-0cf9-4bbc-9a85-60a97c9a7d8d",
      "metadata": {
        "id": "bb244c51-0cf9-4bbc-9a85-60a97c9a7d8d"
      },
      "source": [
        "## Random Number Generation"
      ]
    },
    {
      "cell_type": "code",
      "execution_count": 18,
      "id": "3a471846-743d-4f0b-8cc0-393eadda09b1",
      "metadata": {
        "id": "3a471846-743d-4f0b-8cc0-393eadda09b1",
        "colab": {
          "base_uri": "https://localhost:8080/"
        },
        "outputId": "4a4d4e26-eb70-41dc-c795-938089a017c7"
      },
      "outputs": [
        {
          "output_type": "execute_result",
          "data": {
            "text/plain": [
              "array([0.24366022, 0.57971602, 0.50250183, 0.10324739, 0.96662238])"
            ]
          },
          "metadata": {},
          "execution_count": 18
        }
      ],
      "source": [
        "np.random.rand(5) # array of 5 random numbers between 0 and 1"
      ]
    },
    {
      "cell_type": "markdown",
      "id": "c600be08-508d-47ab-aa3c-7b395fd921bf",
      "metadata": {
        "id": "c600be08-508d-47ab-aa3c-7b395fd921bf"
      },
      "source": [
        "## Random Integers"
      ]
    },
    {
      "cell_type": "code",
      "execution_count": 19,
      "id": "9e22ce34-4a47-4730-a973-73120eab2877",
      "metadata": {
        "id": "9e22ce34-4a47-4730-a973-73120eab2877",
        "colab": {
          "base_uri": "https://localhost:8080/"
        },
        "outputId": "c4c8a5fc-8265-4edd-b5c5-ea3d082a61d1"
      },
      "outputs": [
        {
          "output_type": "execute_result",
          "data": {
            "text/plain": [
              "array([0, 5, 2, 9, 7])"
            ]
          },
          "metadata": {},
          "execution_count": 19
        }
      ],
      "source": [
        "np.random.randint(0, 10, size=5) #  array of 5 random integers between 0 and 10"
      ]
    },
    {
      "cell_type": "markdown",
      "id": "ad514e66-469b-4b03-87a5-443fae3a1d38",
      "metadata": {
        "id": "ad514e66-469b-4b03-87a5-443fae3a1d38"
      },
      "source": [
        "## Reshaping Arrays"
      ]
    },
    {
      "cell_type": "code",
      "execution_count": 20,
      "id": "290fc855-582b-4730-aa82-b4badd595bce",
      "metadata": {
        "id": "290fc855-582b-4730-aa82-b4badd595bce",
        "colab": {
          "base_uri": "https://localhost:8080/"
        },
        "outputId": "8ae2781c-3b03-4d17-cfe2-6a8ac1d33f92"
      },
      "outputs": [
        {
          "output_type": "stream",
          "name": "stdout",
          "text": [
            "[ 0  1  2  3  4  5  6  7  8  9 10 11]\n",
            "[[[ 0  1  2  3]\n",
            "  [ 4  5  6  7]\n",
            "  [ 8  9 10 11]]]\n"
          ]
        }
      ],
      "source": [
        "arr = np.arange(12)\n",
        "arr_reshaped = arr.reshape((1, 3, 4))  # Reshape to 3x4 array\n",
        "print(arr)\n",
        "print(arr_reshaped)"
      ]
    },
    {
      "cell_type": "markdown",
      "id": "91d0b908-c690-4b3d-981c-9019d3cfb9ff",
      "metadata": {
        "id": "91d0b908-c690-4b3d-981c-9019d3cfb9ff"
      },
      "source": [
        "## Flattening arrays"
      ]
    },
    {
      "cell_type": "code",
      "execution_count": 21,
      "id": "8aa091eb-12aa-4640-a15d-baca0f70c424",
      "metadata": {
        "id": "8aa091eb-12aa-4640-a15d-baca0f70c424"
      },
      "outputs": [],
      "source": [
        "arr_flat = arr_reshaped.flatten()"
      ]
    },
    {
      "cell_type": "code",
      "execution_count": 22,
      "id": "6694f302-90f2-4e5a-afca-5fe9f971b20c",
      "metadata": {
        "id": "6694f302-90f2-4e5a-afca-5fe9f971b20c",
        "colab": {
          "base_uri": "https://localhost:8080/"
        },
        "outputId": "fc41c947-7efd-413a-fcb6-37f26a183f0c"
      },
      "outputs": [
        {
          "output_type": "stream",
          "name": "stdout",
          "text": [
            "[ 0  1  2  3  4  5  6  7  8  9 10 11]\n"
          ]
        }
      ],
      "source": [
        "print(arr_flat)"
      ]
    },
    {
      "cell_type": "markdown",
      "id": "5c44dba3-f895-46e6-aa58-3c3d8ca8b7d2",
      "metadata": {
        "id": "5c44dba3-f895-46e6-aa58-3c3d8ca8b7d2"
      },
      "source": [
        "## Broadcasting"
      ]
    },
    {
      "cell_type": "code",
      "execution_count": 23,
      "id": "bb59a679-cafc-472f-a6a0-72a1fe270a15",
      "metadata": {
        "id": "bb59a679-cafc-472f-a6a0-72a1fe270a15",
        "colab": {
          "base_uri": "https://localhost:8080/"
        },
        "outputId": "4dcfd2e6-c9af-4bce-cf9e-de94dc37b2f5"
      },
      "outputs": [
        {
          "output_type": "stream",
          "name": "stdout",
          "text": [
            "[11 12 13]\n"
          ]
        }
      ],
      "source": [
        "arr = np.array([1, 2, 3])\n",
        "result = arr + np.array([10])  # Broadcasting the addition\n",
        "print(result)"
      ]
    },
    {
      "cell_type": "markdown",
      "id": "605db601-dac7-4b48-afd1-c7819cbfd150",
      "metadata": {
        "id": "605db601-dac7-4b48-afd1-c7819cbfd150"
      },
      "source": [
        "## Broadcatsing with a scalar"
      ]
    },
    {
      "cell_type": "code",
      "execution_count": 24,
      "id": "ff7ba4b4-52ea-41f7-b0ef-cce6c30c3859",
      "metadata": {
        "id": "ff7ba4b4-52ea-41f7-b0ef-cce6c30c3859",
        "colab": {
          "base_uri": "https://localhost:8080/"
        },
        "outputId": "0cbf8768-a779-4c1f-8468-8a02dca7354d"
      },
      "outputs": [
        {
          "output_type": "stream",
          "name": "stdout",
          "text": [
            "Original Array:\n",
            "[[1 2 3]\n",
            " [4 5 6]]\n",
            "\n",
            "Array after adding scalar 10:\n",
            "[[11 12 13]\n",
            " [14 15 16]]\n"
          ]
        }
      ],
      "source": [
        "# Create a 2D array\n",
        "array = np.array([[1, 2, 3], [4, 5, 6]])\n",
        "\n",
        "# Add a scalar value to each element of the array\n",
        "result = array + 10\n",
        "\n",
        "print(\"Original Array:\")\n",
        "print(array)\n",
        "print(\"\\nArray after adding scalar 10:\")\n",
        "print(result)\n"
      ]
    },
    {
      "cell_type": "markdown",
      "id": "cfbb59e6-dba6-4edc-bbed-caeef48aa429",
      "metadata": {
        "id": "cfbb59e6-dba6-4edc-bbed-caeef48aa429"
      },
      "source": [
        "## Broadcasting with different shaped arrays"
      ]
    },
    {
      "cell_type": "code",
      "execution_count": 25,
      "id": "30be6a63-7e99-4fcb-81ce-0670ae89cc02",
      "metadata": {
        "id": "30be6a63-7e99-4fcb-81ce-0670ae89cc02",
        "colab": {
          "base_uri": "https://localhost:8080/"
        },
        "outputId": "9b71470a-d89a-46fb-de64-6487253660b5"
      },
      "outputs": [
        {
          "output_type": "stream",
          "name": "stdout",
          "text": [
            "2D Array:\n",
            "[[1 2 3]\n",
            " [4 5 6]]\n",
            "\n",
            "1D Array:\n",
            "[10 20 30]\n",
            "\n",
            "Result after broadcasting:\n",
            "[[11 22 33]\n",
            " [14 25 36]]\n"
          ]
        }
      ],
      "source": [
        "# Create a 2D array\n",
        "array_2d = np.array([[1, 2, 3], [4, 5, 6]])\n",
        "\n",
        "# Create a 1D array\n",
        "array_1d = np.array([10, 20, 30])\n",
        "\n",
        "# Add the 1D array to the 2D array\n",
        "result = array_2d + array_1d\n",
        "\n",
        "print(\"2D Array:\")\n",
        "print(array_2d)\n",
        "print(\"\\n1D Array:\")\n",
        "print(array_1d)\n",
        "print(\"\\nResult after broadcasting:\")\n",
        "print(result)\n"
      ]
    },
    {
      "cell_type": "markdown",
      "id": "f202dd17-38a9-41f4-86bf-3ff69abe2fb3",
      "metadata": {
        "id": "f202dd17-38a9-41f4-86bf-3ff69abe2fb3"
      },
      "source": [
        "## Broadcasting with higher dimensions"
      ]
    },
    {
      "cell_type": "code",
      "execution_count": 26,
      "id": "f55a98d8-2591-4833-bc1c-de6f345e67a2",
      "metadata": {
        "id": "f55a98d8-2591-4833-bc1c-de6f345e67a2",
        "colab": {
          "base_uri": "https://localhost:8080/"
        },
        "outputId": "00e9b3fb-08e8-476d-a093-d539922bebe6"
      },
      "outputs": [
        {
          "output_type": "stream",
          "name": "stdout",
          "text": [
            "3D Array:\n",
            "[[[ 1  2  3]\n",
            "  [ 4  5  6]]\n",
            "\n",
            " [[ 7  8  9]\n",
            "  [10 11 12]]]\n",
            "\n",
            "2D Array:\n",
            "[[1 0 1]]\n",
            "\n",
            "Result after broadcasting:\n",
            "[[[ 2  2  4]\n",
            "  [ 5  5  7]]\n",
            "\n",
            " [[ 8  8 10]\n",
            "  [11 11 13]]]\n"
          ]
        }
      ],
      "source": [
        "# Create a 3D array\n",
        "array_3d = np.array([[[1, 2, 3], [4, 5, 6]], [[7, 8, 9], [10, 11, 12]]])\n",
        "\n",
        "# Create a 2D array\n",
        "array_2d = np.array([[1, 0, 1]])\n",
        "\n",
        "# Add the 2D array to the 3D array\n",
        "result = array_3d + array_2d\n",
        "\n",
        "print(\"3D Array:\")\n",
        "print(array_3d)\n",
        "print(\"\\n2D Array:\")\n",
        "print(array_2d)\n",
        "print(\"\\nResult after broadcasting:\")\n",
        "print(result)\n"
      ]
    },
    {
      "cell_type": "code",
      "execution_count": 27,
      "id": "631fe913-f9c2-4838-923c-d2281eb0ee3c",
      "metadata": {
        "id": "631fe913-f9c2-4838-923c-d2281eb0ee3c",
        "colab": {
          "base_uri": "https://localhost:8080/"
        },
        "outputId": "69c37d15-06c9-4c24-d271-1cf05d973868"
      },
      "outputs": [
        {
          "output_type": "stream",
          "name": "stdout",
          "text": [
            "(2, 2, 3)\n"
          ]
        }
      ],
      "source": [
        "print(array_3d.shape)"
      ]
    },
    {
      "cell_type": "code",
      "execution_count": 28,
      "id": "4b4ea5ad-f00b-4971-8545-09390c110162",
      "metadata": {
        "id": "4b4ea5ad-f00b-4971-8545-09390c110162",
        "colab": {
          "base_uri": "https://localhost:8080/"
        },
        "outputId": "14a54a3e-86a9-4ad0-af7f-6758eee0b3a3"
      },
      "outputs": [
        {
          "output_type": "stream",
          "name": "stdout",
          "text": [
            "(1, 3)\n"
          ]
        }
      ],
      "source": [
        "print(array_2d.shape)"
      ]
    },
    {
      "cell_type": "markdown",
      "id": "c350ea2b-6899-4cfb-90dc-30bae49a3135",
      "metadata": {
        "id": "c350ea2b-6899-4cfb-90dc-30bae49a3135"
      },
      "source": [
        "## Boolean Masking"
      ]
    },
    {
      "cell_type": "code",
      "execution_count": 29,
      "id": "855e9b43-16b5-4f88-99dc-9d122d2224c9",
      "metadata": {
        "id": "855e9b43-16b5-4f88-99dc-9d122d2224c9",
        "colab": {
          "base_uri": "https://localhost:8080/"
        },
        "outputId": "12b77b92-8414-4eaa-b8d3-62ff74ac26c2"
      },
      "outputs": [
        {
          "output_type": "stream",
          "name": "stdout",
          "text": [
            "Original Array:\n",
            "[  0  25  19 220 100  58   9  45  90  78  56]\n",
            "Boolean Mask:\n",
            "[False False False  True  True  True False  True  True  True  True]\n",
            "Filtered intensities (Above Threshold):\n",
            "[220 100  58  45  90  78  56]\n"
          ]
        }
      ],
      "source": [
        "import numpy as np\n",
        "# Create a NumPy array of pixel intensities\n",
        "intensities = np.array([0, 25, 19, 220, 100, 58, 9, 45, 90, 78, 56])\n",
        "\n",
        "print(\"Original Array:\")\n",
        "print(intensities)\n",
        "\n",
        "# Define the threshold\n",
        "threshold = 25\n",
        "\n",
        "# Create a boolean mask where the condition is intensities > threshold\n",
        "mask = intensities > threshold\n",
        "\n",
        "print(\"Boolean Mask:\")\n",
        "print(mask)\n",
        "\n",
        "# Apply the boolean mask to the original array\n",
        "filtered_intensities = intensities[mask]\n",
        "\n",
        "print(\"Filtered intensities (Above Threshold):\")\n",
        "print(filtered_intensities)\n"
      ]
    }
  ],
  "metadata": {
    "kernelspec": {
      "display_name": "Python 3 (ipykernel)",
      "language": "python",
      "name": "python3"
    },
    "language_info": {
      "codemirror_mode": {
        "name": "ipython",
        "version": 3
      },
      "file_extension": ".py",
      "mimetype": "text/x-python",
      "name": "python",
      "nbconvert_exporter": "python",
      "pygments_lexer": "ipython3",
      "version": "3.12.4"
    },
    "colab": {
      "provenance": []
    }
  },
  "nbformat": 4,
  "nbformat_minor": 5
}