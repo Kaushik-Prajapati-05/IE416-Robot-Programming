{
  "nbformat": 4,
  "nbformat_minor": 0,
  "metadata": {
    "colab": {
      "provenance": []
    },
    "kernelspec": {
      "name": "python3",
      "display_name": "Python 3"
    },
    "language_info": {
      "name": "python"
    }
  },
  "cells": [
    {
      "cell_type": "markdown",
      "source": [
        "<h1> <b> Lab-02: Robot Programming </b> </h1>\n",
        "<h4><b> Group Syntax:</b> </h4>\n",
        "\n",
        "```\n",
        "Yash Tarpara      - 202201422\n",
        "Kaushik Prajapati - 202201472\n",
        "```\n",
        "\n"
      ],
      "metadata": {
        "id": "_VZvkESeuefv"
      }
    },
    {
      "cell_type": "code",
      "source": [
        "!pip install roboticstoolbox-python"
      ],
      "metadata": {
        "id": "5_IoCadcVkfh"
      },
      "execution_count": null,
      "outputs": []
    },
    {
      "cell_type": "markdown",
      "source": [
        "<h4><b> Example-01:</b> </h4>"
      ],
      "metadata": {
        "id": "bfv798DsuzWy"
      }
    },
    {
      "cell_type": "code",
      "source": [
        "import roboticstoolbox as rtb\n",
        "\n",
        "# Define the robot model\n",
        "robot = rtb.models.Panda()\n",
        "\n",
        "# Print the robot model\n",
        "print(robot)\n",
        "\n",
        "# Visulise the robot\n",
        "robot.plot(robot.qr, block=True, backend='pyplot')"
      ],
      "metadata": {
        "id": "Dkr8JApNZCNT"
      },
      "execution_count": null,
      "outputs": []
    },
    {
      "cell_type": "markdown",
      "source": [
        "<h4><b> Example-02:</b> </h4>"
      ],
      "metadata": {
        "id": "WEM4o3lvu4eS"
      }
    },
    {
      "cell_type": "code",
      "source": [
        "# Display Robot with Swift\n",
        "import roboticstoolbox as rtb\n",
        "import swift\n",
        "\n",
        "# Create swift instance\n",
        "env =swift.Swift()\n",
        "env.launch(realtime=True)\n",
        "\n",
        "# Define the robot model\n",
        "robot = rtb.models.Panda()\n",
        "robot.q = robot.qr\n",
        "\n",
        "robot.qd = [0.1, 0, 0, 0, 0, 0, 0.1]\n",
        "\n",
        "# Add robot to swift\n",
        "env.add(robot)\n",
        "\n",
        "for _ in range(100):\n",
        "    env.step(0.05)\n",
        "\n",
        "# Stop the browser tab from closing\n",
        "env.hold()"
      ],
      "metadata": {
        "id": "mldNgSOuagxP"
      },
      "execution_count": null,
      "outputs": []
    },
    {
      "cell_type": "markdown",
      "source": [
        "<h4><b> Example-03:</b> </h4>"
      ],
      "metadata": {
        "id": "1Q7pr1VDu6fZ"
      }
    },
    {
      "cell_type": "code",
      "source": [
        "# Set goal position\n",
        "\n",
        "import roboticstoolbox as rtb\n",
        "import swift\n",
        "import numpy as np\n",
        "import spatialmath as sm\n",
        "import spatialgeometry as sg\n",
        "\n",
        "# Create swift instance\n",
        "env =swift.Swift()\n",
        "env.launch(realtime=True)\n",
        "\n",
        "# Define the robot model\n",
        "robot = rtb.models.Panda()\n",
        "robot.q = robot.qr\n",
        "\n",
        "# Add robot to swift\n",
        "env.add(robot)\n",
        "\n",
        "# Set goal position\n",
        "goal = robot.fkine(robot.q) * sm.SE3.Tx(0.2) * sm.SE3.Ty(0.2) * sm.SE3.Tz(0.35)\n",
        "axes = sg.Axes(length=0.1, base=goal)\n",
        "env.add(axes)\n",
        "\n",
        "# Arrived at a destination flag\n",
        "arrived = False\n",
        "\n",
        "# Time step\n",
        "dt = 0.01\n",
        "\n",
        "while not arrived:\n",
        "    # v is a 6 vector representing the spatial error\n",
        "    v, arrived = rtb.p_servo(robot.fkine(robot.q), goal, gain=1, threshold=0.01)\n",
        "    J = robot.jacobe(robot.q)\n",
        "    robot.qd = np.linalg.pinv(J) @ v\n",
        "\n",
        "    # Step the environment\n",
        "    env.step(dt)\n",
        "\n",
        "# Stop the browser tab from closing\n",
        "env.hold()"
      ],
      "metadata": {
        "id": "JSkA8drEakpw"
      },
      "execution_count": null,
      "outputs": []
    },
    {
      "cell_type": "markdown",
      "source": [
        "<h4><b> Example-04:</b> </h4>"
      ],
      "metadata": {
        "id": "nNExFbrsu8zu"
      }
    },
    {
      "cell_type": "code",
      "source": [
        "# Collotion geometry\n",
        "\n",
        "import roboticstoolbox as rtb\n",
        "import swift\n",
        "import numpy as np\n",
        "import spatialmath as sm\n",
        "import spatialgeometry as sg\n",
        "\n",
        "# Create swift instance\n",
        "env =swift.Swift()\n",
        "env.launch(realtime=True)\n",
        "\n",
        "# Define the robot model\n",
        "robot = rtb.models.Panda()\n",
        "robot.q = robot.qr\n",
        "\n",
        "# Add robot to swift\n",
        "env.add(robot, robot_alpha=0.5, collision_alpha=0.5)\n",
        "\n",
        "# Set goal position\n",
        "goal = robot.fkine(robot.q) * sm.SE3.Tx(0.2) * sm.SE3.Ty(0.2) * sm.SE3.Tz(0.35)\n",
        "axes = sg.Axes(length=0.1, base=goal)\n",
        "env.add(axes)\n",
        "\n",
        "# Arrived at a destination flag\n",
        "arrived = False\n",
        "\n",
        "# Time step\n",
        "dt = 0.01\n",
        "\n",
        "while not arrived:\n",
        "    # v is a 6 vector representing the spatial error\n",
        "    v, arrived = rtb.p_servo(robot.fkine(robot.q), goal, gain=0.1, threshold=0.01)\n",
        "    J = robot.jacobe(robot.q)\n",
        "    robot.qd = np.linalg.pinv(J) @ v\n",
        "\n",
        "    # Step the environment\n",
        "    env.step(dt)\n",
        "\n",
        "# Stop the browser tab from closing\n",
        "env.hold()"
      ],
      "metadata": {
        "id": "ckojfHe9amj9"
      },
      "execution_count": null,
      "outputs": []
    },
    {
      "cell_type": "markdown",
      "source": [
        "<h4><b> Example-05:</b> </h4>"
      ],
      "metadata": {
        "id": "bGidK3tZu_ea"
      }
    },
    {
      "cell_type": "code",
      "source": [
        "import swift\n",
        "import roboticstoolbox as rtb\n",
        "import spatialmath as sm\n",
        "import numpy as np\n",
        "\n",
        "env = swift.Swift()\n",
        "env.launch(realtime=True)\n",
        "\n",
        "panda = rtb.models.Panda()\n",
        "panda.q = panda.qr\n",
        "\n",
        "Tep = panda.fkine(panda.q) * sm.SE3.Trans(0.2, 0.2, 0.45)\n",
        "\n",
        "arrived = False\n",
        "env.add(panda)\n",
        "\n",
        "dt = 0.005\n",
        "\n",
        "while not arrived:\n",
        "\n",
        "    v, arrived = rtb.p_servo(panda.fkine(panda.q), Tep, 1)\n",
        "    panda.qd = np.linalg.pinv(panda.jacobe(panda.q)) @ v\n",
        "    env.step(dt)\n",
        "\n",
        "# Uncomment to stop the browser tab from closing\n",
        "env.hold()"
      ],
      "metadata": {
        "id": "svvM6yijao-I"
      },
      "execution_count": null,
      "outputs": []
    },
    {
      "cell_type": "markdown",
      "source": [
        "<h4><b> Example-06:</b> </h4>"
      ],
      "metadata": {
        "id": "QxajC9LFvBGr"
      }
    },
    {
      "cell_type": "code",
      "source": [
        "import roboticstoolbox as rtb\n",
        "from spatialmath import SE3\n",
        "import matplotlib\n",
        "import PIL.Image\n",
        "\n",
        "# Step-1: Load a model of the Franka-Emika Panda robot defined by a URDF file\n",
        "robot = rtb.models.Panda()\n",
        "#print(robot)\n",
        "\n",
        "\n",
        "# Step-2: Forward Kinematics\n",
        "Te = robot.fkine(robot.qr)  # forward kinematics\n",
        "#print(Te)\n",
        "\n",
        "# Step-3: Inverse Kinematics\n",
        "Tep = SE3.Trans(0.6, -0.3, 0.1) * SE3.OA([0, 1, 0], [0, 0, -1])\n",
        "sol = robot.ik_LM(Tep)         # solve IK\n",
        "#print(sol)\n",
        "\n",
        "# Step-4: FK shows that desired end-effector pose was achieved\n",
        "q_pickup = sol[0]\n",
        "#print(robot.fkine(q_pickup))\n",
        "\n",
        "# Step-5: Trajectory plot\n",
        "qt = rtb.jtraj(robot.qr, q_pickup, 50)\n",
        "#robot.plot(qt.q, backend='pyplot', movie='panda1.gif')\n",
        "\n",
        "# Step-6: Plot the trajectory in the Swift simulator\n",
        "robot.plot(qt.q)"
      ],
      "metadata": {
        "id": "X5LTS2NqarCC"
      },
      "execution_count": null,
      "outputs": []
    }
  ]
}